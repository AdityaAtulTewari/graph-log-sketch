{
 "cells": [
  {
   "cell_type": "code",
   "execution_count": 1,
   "metadata": {},
   "outputs": [],
   "source": [
    "import json\n",
    "import subprocess\n",
    "from pathlib import Path\n",
    "from tempfile import NamedTemporaryFile\n",
    "from typing import Literal"
   ]
  },
  {
   "cell_type": "code",
   "execution_count": 2,
   "metadata": {},
   "outputs": [],
   "source": [
    "%%sh\n",
    "\n",
    "CPU=$(($(nproc) - 1))\n",
    "\n",
    "for i in `seq 0 $CPU`\n",
    "do\n",
    "  sudo cpufreq-set -c $i -g userspace\n",
    "  sudo cpufreq-set -c $i -d 2.90GHz\n",
    "  sudo cpufreq-set -c $i -u 2.90GHz\n",
    "  sudo cpufreq-set -c $i -f 2.90GHz\n",
    "done"
   ]
  },
  {
   "cell_type": "code",
   "execution_count": 9,
   "metadata": {},
   "outputs": [],
   "source": [
    "JACCARD_BINARY = Path(\"../build/jaccard\")\n",
    "\n",
    "\n",
    "def run_jaccard_evolve(\n",
    "    graph: Literal[\"LS_CSR\", \"CSR_64\", \"MOR_GR\", \"LC_MOR_GR\"] = \"LS_CSR\",\n",
    "    n: int = 10_000,\n",
    "    m: int = 10,\n",
    "    p: float = 0.15,\n",
    "):\n",
    "    with NamedTemporaryFile(\n",
    "        \"r\", prefix=f\"{graph}-n={n}-m={m}-p={p:.2f}-\", suffix=\".txt\", delete=False\n",
    "    ) as stats_file:\n",
    "        jaccard_proc = subprocess.run(\n",
    "            [\n",
    "                JACCARD_BINARY,\n",
    "                f\"-g={graph}\",\n",
    "                f\"-n={n}\",\n",
    "                f\"-m={m}\",\n",
    "                f\"-p={p}\",\n",
    "                \"--style=EVOLVE\",\n",
    "                \"--out=NON\",\n",
    "                \"--stats\",\n",
    "                stats_file.name,\n",
    "            ],\n",
    "        )\n",
    "        jaccard_proc.check_returncode()\n",
    "\n",
    "        results = list(map(json.loads, stats_file.readlines()))\n",
    "        for result in results:\n",
    "            (g, _e, stage, step) = result[\"name\"].split()\n",
    "            (step, max_step) = tuple(map(int, step.split(\"/\")))\n",
    "            result[\"graph\"] = g\n",
    "            result[\"stage\"] = stage\n",
    "            result[\"step\"] = step\n",
    "            result[\"max_step\"] = max_step\n",
    "\n",
    "        return results"
   ]
  },
  {
   "cell_type": "code",
   "execution_count": 10,
   "metadata": {},
   "outputs": [],
   "source": [
    "results = []"
   ]
  },
  {
   "cell_type": "code",
   "execution_count": 12,
   "metadata": {},
   "outputs": [
    {
     "name": "stdout",
     "output_type": "stream",
     "text": [
      "File Read Time (ns):\t742431\n",
      "STAT_TYPE, REGION, CATEGORY, TOTAL_TYPE, TOTAL\n",
      "STAT, Sorting 1, Iterations, TSUM, 42\n",
      "STAT, Sorting 1, Time, TMAX, 2\n",
      "STAT, Insertion 1, Iterations, TSUM, 200\n",
      "STAT, Sorting 0, Iterations, TSUM, 1932\n",
      "STAT, Insertion 0, Iterations, TSUM, 9200\n",
      "STAT, Sorting 2, Iterations, TSUM, 42\n",
      "STAT, Insertion 2, Iterations, TSUM, 200\n",
      "STAT, Sorting 3, Iterations, TSUM, 42\n",
      "STAT, Insertion 3, Iterations, TSUM, 200\n",
      "STAT, Sorting 4, Iterations, TSUM, 42\n",
      "STAT, Insertion 4, Iterations, TSUM, 200\n",
      "STAT, Sorting 5, Iterations, TSUM, 42\n",
      "STAT, Insertion 5, Iterations, TSUM, 200\n",
      "STAT, Sorting 6, Iterations, TSUM, 42\n",
      "STAT, Insertion 6, Iterations, TSUM, 200\n",
      "STAT, Sorting 7, Iterations, TSUM, 42\n",
      "STAT, Insertion 7, Iterations, TSUM, 200\n",
      "STAT, Sorting 8, Iterations, TSUM, 42\n",
      "STAT, Insertion 8, Iterations, TSUM, 200\n"
     ]
    },
    {
     "name": "stderr",
     "output_type": "stream",
     "text": [
      "jaccard: for the -g option: Cannot find option named 'LC_MOR_GR'!\n"
     ]
    },
    {
     "ename": "CalledProcessError",
     "evalue": "Command '[PosixPath('../build/jaccard'), '-g=LC_MOR_GR', '-n=100', '-m=10', '-p=0.15', '--style=EVOLVE', '--out=NON', '--stats', '/tmp/LC_MOR_GR-n=100-m=10-p=0.15-l6mfqc92.txt']' returned non-zero exit status 1.",
     "output_type": "error",
     "traceback": [
      "\u001b[0;31m---------------------------------------------------------------------------\u001b[0m",
      "\u001b[0;31mCalledProcessError\u001b[0m                        Traceback (most recent call last)",
      "Cell \u001b[0;32mIn[12], line 3\u001b[0m\n\u001b[1;32m      1\u001b[0m exp_args \u001b[38;5;241m=\u001b[39m {\u001b[38;5;124m\"\u001b[39m\u001b[38;5;124mn\u001b[39m\u001b[38;5;124m\"\u001b[39m: \u001b[38;5;241m100\u001b[39m, \u001b[38;5;124m\"\u001b[39m\u001b[38;5;124mm\u001b[39m\u001b[38;5;124m\"\u001b[39m: \u001b[38;5;241m10\u001b[39m, \u001b[38;5;124m\"\u001b[39m\u001b[38;5;124mp\u001b[39m\u001b[38;5;124m\"\u001b[39m: \u001b[38;5;241m0.15\u001b[39m}\n\u001b[1;32m      2\u001b[0m \u001b[38;5;28;01mfor\u001b[39;00m graph \u001b[38;5;129;01min\u001b[39;00m [\u001b[38;5;124m\"\u001b[39m\u001b[38;5;124mLS_CSR\u001b[39m\u001b[38;5;124m\"\u001b[39m, \u001b[38;5;124m\"\u001b[39m\u001b[38;5;124mLC_MOR_GR\u001b[39m\u001b[38;5;124m\"\u001b[39m]:\n\u001b[0;32m----> 3\u001b[0m     results \u001b[38;5;241m+\u001b[39m\u001b[38;5;241m=\u001b[39m \u001b[43mrun_jaccard_evolve\u001b[49m\u001b[43m(\u001b[49m\u001b[43mgraph\u001b[49m\u001b[38;5;241;43m=\u001b[39;49m\u001b[43mgraph\u001b[49m\u001b[43m,\u001b[49m\u001b[43m \u001b[49m\u001b[38;5;241;43m*\u001b[39;49m\u001b[38;5;241;43m*\u001b[39;49m\u001b[43mexp_args\u001b[49m\u001b[43m)\u001b[49m\n",
      "Cell \u001b[0;32mIn[9], line 26\u001b[0m, in \u001b[0;36mrun_jaccard_evolve\u001b[0;34m(graph, n, m, p)\u001b[0m\n\u001b[1;32m     10\u001b[0m \u001b[38;5;28;01mwith\u001b[39;00m NamedTemporaryFile(\n\u001b[1;32m     11\u001b[0m     \u001b[38;5;124m\"\u001b[39m\u001b[38;5;124mr\u001b[39m\u001b[38;5;124m\"\u001b[39m, prefix\u001b[38;5;241m=\u001b[39m\u001b[38;5;124mf\u001b[39m\u001b[38;5;124m\"\u001b[39m\u001b[38;5;132;01m{\u001b[39;00mgraph\u001b[38;5;132;01m}\u001b[39;00m\u001b[38;5;124m-n=\u001b[39m\u001b[38;5;132;01m{\u001b[39;00mn\u001b[38;5;132;01m}\u001b[39;00m\u001b[38;5;124m-m=\u001b[39m\u001b[38;5;132;01m{\u001b[39;00mm\u001b[38;5;132;01m}\u001b[39;00m\u001b[38;5;124m-p=\u001b[39m\u001b[38;5;132;01m{\u001b[39;00mp\u001b[38;5;132;01m:\u001b[39;00m\u001b[38;5;124m.2f\u001b[39m\u001b[38;5;132;01m}\u001b[39;00m\u001b[38;5;124m-\u001b[39m\u001b[38;5;124m\"\u001b[39m, suffix\u001b[38;5;241m=\u001b[39m\u001b[38;5;124m\"\u001b[39m\u001b[38;5;124m.txt\u001b[39m\u001b[38;5;124m\"\u001b[39m, delete\u001b[38;5;241m=\u001b[39m\u001b[38;5;28;01mFalse\u001b[39;00m\n\u001b[1;32m     12\u001b[0m ) \u001b[38;5;28;01mas\u001b[39;00m stats_file:\n\u001b[1;32m     13\u001b[0m     jaccard_proc \u001b[38;5;241m=\u001b[39m subprocess\u001b[38;5;241m.\u001b[39mrun(\n\u001b[1;32m     14\u001b[0m         [\n\u001b[1;32m     15\u001b[0m             JACCARD_BINARY,\n\u001b[0;32m   (...)\u001b[0m\n\u001b[1;32m     24\u001b[0m         ],\n\u001b[1;32m     25\u001b[0m     )\n\u001b[0;32m---> 26\u001b[0m     \u001b[43mjaccard_proc\u001b[49m\u001b[38;5;241;43m.\u001b[39;49m\u001b[43mcheck_returncode\u001b[49m\u001b[43m(\u001b[49m\u001b[43m)\u001b[49m\n\u001b[1;32m     28\u001b[0m     results \u001b[38;5;241m=\u001b[39m \u001b[38;5;28mlist\u001b[39m(\u001b[38;5;28mmap\u001b[39m(json\u001b[38;5;241m.\u001b[39mloads, stats_file\u001b[38;5;241m.\u001b[39mreadlines()))\n\u001b[1;32m     29\u001b[0m     \u001b[38;5;28;01mfor\u001b[39;00m result \u001b[38;5;129;01min\u001b[39;00m results:\n",
      "File \u001b[0;32m~/anaconda3/envs/graph-log-sketch/lib/python3.10/subprocess.py:457\u001b[0m, in \u001b[0;36mCompletedProcess.check_returncode\u001b[0;34m(self)\u001b[0m\n\u001b[1;32m    455\u001b[0m \u001b[38;5;250m\u001b[39m\u001b[38;5;124;03m\"\"\"Raise CalledProcessError if the exit code is non-zero.\"\"\"\u001b[39;00m\n\u001b[1;32m    456\u001b[0m \u001b[38;5;28;01mif\u001b[39;00m \u001b[38;5;28mself\u001b[39m\u001b[38;5;241m.\u001b[39mreturncode:\n\u001b[0;32m--> 457\u001b[0m     \u001b[38;5;28;01mraise\u001b[39;00m CalledProcessError(\u001b[38;5;28mself\u001b[39m\u001b[38;5;241m.\u001b[39mreturncode, \u001b[38;5;28mself\u001b[39m\u001b[38;5;241m.\u001b[39margs, \u001b[38;5;28mself\u001b[39m\u001b[38;5;241m.\u001b[39mstdout,\n\u001b[1;32m    458\u001b[0m                              \u001b[38;5;28mself\u001b[39m\u001b[38;5;241m.\u001b[39mstderr)\n",
      "\u001b[0;31mCalledProcessError\u001b[0m: Command '[PosixPath('../build/jaccard'), '-g=LC_MOR_GR', '-n=100', '-m=10', '-p=0.15', '--style=EVOLVE', '--out=NON', '--stats', '/tmp/LC_MOR_GR-n=100-m=10-p=0.15-l6mfqc92.txt']' returned non-zero exit status 1."
     ]
    }
   ],
   "source": [
    "exp_args = {\"n\": 100, \"m\": 10, \"p\": 0.15}\n",
    "for graph in [\"LS_CSR\", \"LC_MOR_GR\"]:\n",
    "    results += run_jaccard_evolve(graph=graph, **exp_args)"
   ]
  },
  {
   "cell_type": "code",
   "execution_count": null,
   "metadata": {},
   "outputs": [],
   "source": [
    "# todo: for each stage, plot graph of cycles vs step, with cycles grouped by graph."
   ]
  },
  {
   "cell_type": "code",
   "execution_count": 5,
   "metadata": {},
   "outputs": [],
   "source": [
    "%%sh\n",
    "\n",
    "CPU=$(($(nproc) - 1))\n",
    "\n",
    "for i in `seq 0 $CPU`\n",
    "do\n",
    "  sudo cpufreq-set -c $i -g powersave\n",
    "  sudo cpufreq-set -c $i -u 3.30GHz\n",
    "  sudo cpufreq-set -c $i -d 1.20GHz\n",
    "done"
   ]
  }
 ],
 "metadata": {
  "kernelspec": {
   "display_name": "Python 3",
   "language": "python",
   "name": "python3"
  },
  "language_info": {
   "codemirror_mode": {
    "name": "ipython",
    "version": 3
   },
   "file_extension": ".py",
   "mimetype": "text/x-python",
   "name": "python",
   "nbconvert_exporter": "python",
   "pygments_lexer": "ipython3",
   "version": "3.10.13"
  }
 },
 "nbformat": 4,
 "nbformat_minor": 2
}
